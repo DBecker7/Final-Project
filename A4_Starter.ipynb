{
 "cells": [
  {
   "cell_type": "code",
   "execution_count": 1,
   "id": "b3a5d03c-c6cf-4cd7-acfe-0b3221c14ed3",
   "metadata": {
    "editable": true,
    "slideshow": {
     "slide_type": ""
    },
    "tags": []
   },
   "outputs": [],
   "source": [
    "from IPython.display import display, Math, Latex\n"
   ]
  },
  {
   "cell_type": "markdown",
   "id": "1b22d754-3ee4-40d9-b7e6-3677574267cd",
   "metadata": {
    "editable": true,
    "slideshow": {
     "slide_type": ""
    },
    "tags": []
   },
   "source": [
    "**Author:**\n",
    "\n",
    "**Collaborators:**\n",
    "\n",
    "# Question 1: Entropy versus Gini"
   ]
  },
  {
   "cell_type": "markdown",
   "id": "a7a90f76-2b0c-4d33-a743-08b6611191f0",
   "metadata": {
    "editable": true,
    "slideshow": {
     "slide_type": ""
    },
    "tags": []
   },
   "source": [
    "Replace this text here with your answers. To simplify both submission and grading, Question 1 must be **exactly two pages**. This limit includes the page that has the title and your name. *Double check your exported PDF before submitting to GradeScope*. \n",
    "\n",
    "The assignment is set as having a fixed length, so be **very** mindful of the page limits.\n",
    "\n",
    "This means you must be concise and careful with your code cell outputs. This is excellent practice for your final project.\n",
    "\n",
    "Note that you can upload images to syzygy and include them. If you put the following html snippet **in a markdown cell** above text, it will show up to the right of the text. This is useful for satisfying the **strictly enforced one-page limit**:\n",
    "\n"
   ]
  },
  {
   "cell_type": "raw",
   "id": "dfb748da-d195-4a2b-ad0f-4329b33ac32d",
   "metadata": {
    "editable": true,
    "raw_mimetype": "",
    "slideshow": {
     "slide_type": ""
    },
    "tags": []
   },
   "source": [
    "<img src=\"path/to/figure\" width=\"400\" align=\"right\">\n"
   ]
  },
  {
   "cell_type": "code",
   "execution_count": 2,
   "id": "d2e01de2-981e-443d-8b43-a90547a1e8d6",
   "metadata": {},
   "outputs": [],
   "source": [
    "# Any code you want here\n"
   ]
  },
  {
   "cell_type": "markdown",
   "id": "6dfbd613-2b99-46e3-b113-c8ecf732751c",
   "metadata": {},
   "source": [
    "<!--- Make sure this is the last cell in the question!!! --->\n",
    "\n",
    "\\clearpage"
   ]
  },
  {
   "cell_type": "markdown",
   "id": "59603a93-a5b5-4b8c-8803-1664a1ccd08c",
   "metadata": {},
   "source": [
    "# Question 2: ovo versus ovr"
   ]
  },
  {
   "cell_type": "markdown",
   "id": "85104f84-5d7d-4cd0-8209-ede3c800947a",
   "metadata": {
    "editable": true,
    "slideshow": {
     "slide_type": ""
    },
    "tags": []
   },
   "source": [
    "Replace this text with your answers. To simplify both submission and grading, Question 2 must be **exactly two pages**."
   ]
  },
  {
   "cell_type": "code",
   "execution_count": 3,
   "id": "66b75937-8574-42e0-9241-289b5c2bd012",
   "metadata": {},
   "outputs": [],
   "source": [
    "# Any code you want here\n"
   ]
  },
  {
   "cell_type": "markdown",
   "id": "45df8a7f-2f43-48d3-af03-03ecc52d5443",
   "metadata": {},
   "source": [
    "<!--- Make sure this is the last cell in the question!!! --->\n",
    "\\clearpage"
   ]
  },
  {
   "cell_type": "markdown",
   "id": "00142b85-c3d2-4909-b937-175d3b0ddb80",
   "metadata": {
    "editable": true,
    "slideshow": {
     "slide_type": ""
    },
    "tags": []
   },
   "source": [
    "# Question 3: [Your Choice Here]\n",
    "\n",
    "## Part 1: Description\n",
    "\n",
    "Add your description here. "
   ]
  },
  {
   "cell_type": "code",
   "execution_count": 4,
   "id": "d1d73d78-a3bd-4b6d-b79e-9afb21155a93",
   "metadata": {
    "editable": true,
    "slideshow": {
     "slide_type": ""
    },
    "tags": []
   },
   "outputs": [],
   "source": [
    "# Any code you want here\n"
   ]
  },
  {
   "cell_type": "markdown",
   "id": "a58ae48f-b325-49d9-8aa6-7faad4fa65ef",
   "metadata": {
    "editable": true,
    "slideshow": {
     "slide_type": ""
    },
    "tags": []
   },
   "source": [
    "<!--- Make sure this is the last cell in the question!!! --->\n",
    "\\clearpage"
   ]
  },
  {
   "cell_type": "markdown",
   "id": "9fcaa406-641e-4b8b-a16d-5bea5d51892f",
   "metadata": {},
   "source": [
    "## Part 2: Teaching Material"
   ]
  },
  {
   "cell_type": "markdown",
   "id": "72f98d82-b6f2-431d-b67a-031fd6f1f934",
   "metadata": {
    "editable": true,
    "slideshow": {
     "slide_type": ""
    },
    "tags": []
   },
   "source": [
    "Add your teaching materials here. Again, **strict one-page limit**.\n",
    "\n",
    "**Double check that your exported pdf is exactly 6 pages long.** The first two pages should be your answer to question 1, the next two pages must be question 2 and then one page per part of question 3."
   ]
  }
 ],
 "metadata": {
  "kernelspec": {
   "display_name": "Python 3 (ipykernel)",
   "language": "python",
   "name": "python3"
  },
  "language_info": {
   "codemirror_mode": {
    "name": "ipython",
    "version": 3
   },
   "file_extension": ".py",
   "mimetype": "text/x-python",
   "name": "python",
   "nbconvert_exporter": "python",
   "pygments_lexer": "ipython3",
   "version": "3.9.12"
  }
 },
 "nbformat": 4,
 "nbformat_minor": 5
}
